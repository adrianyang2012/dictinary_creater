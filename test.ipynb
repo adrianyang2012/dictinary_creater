import dictinary_maker
test_1 = make_dic(["hello","find","python"],["to greet someone also known as hi","to search for a thing that is hidden","a type of giant snake or a programing languge"])
test_2 = make_dic(["paper","fruit","lion"],["made in the 1500's mostly used to write words","a part of plant the part to eat","an animal simliar the tigers"]
#output test_1 = {"hello":"to greet someone also known as hi","find":"to search for a thing that is hidden...}
#do not do this unless you want a error
failed_test = mac_dic(["hi","run"],["to greet someone"])
# ouput = index_error index dict out of range

